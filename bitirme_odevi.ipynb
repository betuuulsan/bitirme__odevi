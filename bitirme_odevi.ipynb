{
  "nbformat": 4,
  "nbformat_minor": 0,
  "metadata": {
    "colab": {
      "provenance": []
    },
    "kernelspec": {
      "name": "python3",
      "display_name": "Python 3"
    },
    "language_info": {
      "name": "python"
    }
  },
  "cells": [
    {
      "cell_type": "code",
      "execution_count": null,
      "metadata": {
        "colab": {
          "base_uri": "https://localhost:8080/"
        },
        "id": "P1pi-8JtW6Tt",
        "outputId": "a0e80faa-ebb5-4685-b5f2-c48d502fb565"
      },
      "outputs": [
        {
          "output_type": "stream",
          "name": "stdout",
          "text": [
            "Ortalama Hata: 0.9379845042913996\n"
          ]
        }
      ],
      "source": [
        "'''\n",
        "ödevde kullandığım dataset bir önceki ödevdeki ile aynıdır. O ödevde bu Dataset ile grafik tasarımı, filtreleme yapmıştım.\n",
        "Şimdi ise regression metodunu kullanarak ortalama hatayı hesaplamaya çalıştım. Eksik ya da yanlış olabilir, konuyu anladığım\n",
        "kadar elimden gelenin en iyisini yapmaya çalıştım :)\n",
        "'''\n",
        "import pandas as pd\n",
        "from sklearn.model_selection import train_test_split\n",
        "from sklearn.linear_model import LinearRegression\n",
        "from sklearn.metrics import mean_squared_error\n",
        "\n",
        "\n",
        "anime_df = pd.read_csv(\"anime.csv\")  # anime.csv dosyasını okuyoruz ve bir DataFrame'e yüklüyoruz.\n",
        "\n",
        "anime_df = anime_df.dropna()  # DataFrame'deki herhangi bir boş değer içeren satırları kaldırıyoruz.\n",
        "\n",
        "X = anime_df[['members']].values  #Bağımsız değişken olarak members'ı seçiyoruz ve membes'ın değerlerini bir Numpy dizisine dönüştürüyoruz\n",
        "\n",
        "y = anime_df['rating'].values  #Bağımlı değişken olarak 'rating' sütununu seçiyoruz ve rating'in değerlerini bir Numpy dizisine dönüştürüyoruz.\n",
        "\n",
        "X_train, X_test, y_train, y_test = train_test_split(X, y, test_size=0.2, random_state=42)   #Veri setini eğitim ve test kümelerine ayırıyoruz.\n",
        "\n",
        "regressor = LinearRegression()  # Doğrusal regresyon modeli oluşturuyoruz.\n",
        "\n",
        "regressor.fit(X_train, y_train)\n",
        "\n",
        "y_pred = regressor.predict(X_test)  # Test veri kümesi üzerinde tahminler yapıyoruz.\n",
        "\n",
        "mse = mean_squared_error(y_test, y_pred)  #MSE hesaplıyoruz. MSE = Ortalama Kare Hatası\n",
        "\n",
        "rmse = mse ** 0.5 #RMSE hesaplıyoruz. RMSE = Kök Ortalama Kare Hatası\n",
        "\n",
        "print(\"Ortalama Hata:\", rmse)  #RMSE'yi ekrana yazdırıyoruz.\n"
      ]
    }
  ]
}